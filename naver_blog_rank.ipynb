{
 "cells": [
  {
   "cell_type": "code",
   "execution_count": 2,
   "metadata": {},
   "outputs": [],
   "source": [
    "\n",
    "import requests\n",
    "from scrapy.http import TextResponse\n",
    "\n",
    "import pandas as pd\n",
    "# from bs4 import BeautifulSoup\n",
    "# from selenium import webdriver\n",
    "# from selenium.webdriver.common.keys import Keys"
   ]
  },
  {
   "cell_type": "code",
   "execution_count": 3,
   "metadata": {},
   "outputs": [],
   "source": [
    "file = pd.read_csv('../blog_rank.csv')"
   ]
  },
  {
   "cell_type": "code",
   "execution_count": 4,
   "metadata": {},
   "outputs": [],
   "source": [
    "driver = webdriver.Chrome('/Users/User/Desktop/이원복/개발/블로그순위/chromedriver')"
   ]
  },
  {
   "cell_type": "code",
   "execution_count": 5,
   "metadata": {},
   "outputs": [],
   "source": [
    "pc_url = \"https://search.naver.com/search.naver?where=post&sm=tab_jum&query=\"\n",
    "m_url = \"https://m.search.naver.com/search.naver?where=m_view&sm=mtb_jum&query=\"\n",
    "query = \"어린이날선물\""
   ]
  },
  {
   "cell_type": "code",
   "execution_count": 102,
   "metadata": {},
   "outputs": [],
   "source": [
    "req = requests.get(pc_url+query)\n",
    "res = TextResponse(req.url, body=rep.text, encoding=\"utf-8\" )"
   ]
  },
  {
   "cell_type": "code",
   "execution_count": 103,
   "metadata": {},
   "outputs": [
    {
     "name": "stdout",
     "output_type": "stream",
     "text": [
      "['blog.naver.com/rorongsy/221910356945', '어린이날 선물 인스 랜덤박스 입이 안다물어짐 ♡']\n",
      "['blog.naver.com/bysaeeun/221908883544', '목욕놀이장난감 케피버블클렌저 어린이날선물로도 제격인듯요']\n",
      "['blog.naver.com/kiyome24/221903236896', '어린이날선물 미리미리 :) 드림아트 프리미엄 미술세트 최고!']\n",
      "['blog.naver.com/littleyuki/221912036414', '어린이날선물 호비랑아가랑 베스트초이스']\n",
      "['blog.naver.com/dbfl8103/221904977080', '어린이날선물 케피버블클렌저 거품입욕제 가지고 놀아요!']\n",
      "['blog.naver.com/nacomzzang/221908475304', '박스집 만들기 어린이날 선물로 좋은 ANBOX']\n",
      "['blog.naver.com/yeeppi84/221905143752', '유아 킥보드 윌리엄 씽씽카 어린이날 선물']\n",
      "['blog.naver.com/thj00/221912170715', '스칸디대디 스카이넷드론 어린이날선물로 이거 인기폭발일듯.']\n",
      "['blog.naver.com/real3622/221904883015', '어린이날선물로 파파야나인 BMW X5 푸쉬카 어때요?']\n",
      "['blog.naver.com/eduline2002/221897345162', '샵디즈니 직구로 어린이날 선물 준비해요~']\n"
     ]
    }
   ],
   "source": [
    "titles = []\n",
    "urls = []\n",
    "rank = []\n",
    "for i in range(10):\n",
    "    title = res.xpath(\"//*[@id='sp_blog_\"+str(i+1)+\"']/dl/dt/a/@title\").extract()\n",
    "    url = res.xpath(\"//*[@id='sp_blog_\"+str(i+1)+\"']/dl/dd[3]/span/a[2]/text()\").extract()    \n",
    "    \n",
    "    field = url+title\n",
    "    print(field)\n",
    "    titles.append(field[1])\n",
    "    urls.append(field[0])\n",
    "    \n",
    "    rank.append(i+1)\n"
   ]
  },
  {
   "cell_type": "code",
   "execution_count": 112,
   "metadata": {},
   "outputs": [],
   "source": [
    "def find_nickname(urls):\n",
    "\n",
    "    nicknames = []\n",
    "    for i in range(10):\n",
    "        url = \"https://\"+urls[i]\n",
    "        print(url)\n",
    "        req = requests.get(url)\n",
    "        res = TextResponse(req.url, body=b'<!doctype><html><body><p>test</p></body></html>', encoding=\"utf-8\" )\n",
    "\n",
    "        a= res.xpath(\"//*[@id='SE-40fc80ad-0afd-40fb-9b23-7f62142caed0']/div/div/div[3]/span[1]/span[2]/a\")\n",
    "        print(a)\n",
    "       \n",
    "\n",
    "\n"
   ]
  },
  {
   "cell_type": "code",
   "execution_count": 113,
   "metadata": {},
   "outputs": [
    {
     "name": "stdout",
     "output_type": "stream",
     "text": [
      "https://blog.naver.com/rorongsy/221910356945\n",
      "[]\n",
      "https://blog.naver.com/bysaeeun/221908883544\n",
      "[]\n",
      "https://blog.naver.com/kiyome24/221903236896\n",
      "[]\n",
      "https://blog.naver.com/littleyuki/221912036414\n",
      "[]\n",
      "https://blog.naver.com/dbfl8103/221904977080\n",
      "[]\n",
      "https://blog.naver.com/nacomzzang/221908475304\n",
      "[]\n",
      "https://blog.naver.com/yeeppi84/221905143752\n",
      "[]\n",
      "https://blog.naver.com/thj00/221912170715\n",
      "[]\n",
      "https://blog.naver.com/real3622/221904883015\n",
      "[]\n",
      "https://blog.naver.com/eduline2002/221897345162\n",
      "[]\n"
     ]
    }
   ],
   "source": [
    "find_nickname(urls)"
   ]
  },
  {
   "cell_type": "code",
   "execution_count": 100,
   "metadata": {},
   "outputs": [
    {
     "name": "stdout",
     "output_type": "stream",
     "text": [
      "https://blog.naver.com/rorongsy/221910356945\n",
      "[]\n"
     ]
    }
   ],
   "source": [
    "        url = \"https://\"+urls[0]\n",
    "        print(url)\n",
    "        req = requests.get(url)\n",
    "        res = TextResponse(req.url, body=req.text, encoding=\"utf-8\" )\n",
    "\n",
    "        a= res.xpath(\"//*[@id='SE-40fc80ad-0afd-40fb-9b23-7f62142caed0']/div/div/div[3]/span[1]/span[2]/a\").extract()\n",
    "        print(a)\n",
    "       "
   ]
  },
  {
   "cell_type": "code",
   "execution_count": 17,
   "metadata": {},
   "outputs": [
    {
     "data": {
      "text/html": [
       "<div>\n",
       "<style scoped>\n",
       "    .dataframe tbody tr th:only-of-type {\n",
       "        vertical-align: middle;\n",
       "    }\n",
       "\n",
       "    .dataframe tbody tr th {\n",
       "        vertical-align: top;\n",
       "    }\n",
       "\n",
       "    .dataframe thead th {\n",
       "        text-align: right;\n",
       "    }\n",
       "</style>\n",
       "<table border=\"1\" class=\"dataframe\">\n",
       "  <thead>\n",
       "    <tr style=\"text-align: right;\">\n",
       "      <th></th>\n",
       "      <th>순위</th>\n",
       "      <th>블로그명</th>\n",
       "      <th>URL</th>\n",
       "      <th>제목</th>\n",
       "    </tr>\n",
       "  </thead>\n",
       "  <tbody>\n",
       "    <tr>\n",
       "      <th>0</th>\n",
       "      <td>1</td>\n",
       "      <td>NaN</td>\n",
       "      <td>어린이날 선물 인스 랜덤박스 입이 안다물어짐 ♡</td>\n",
       "      <td>https://blog.naver.com/rorongsy?Redirect=Log&amp;l...</td>\n",
       "    </tr>\n",
       "    <tr>\n",
       "      <th>1</th>\n",
       "      <td>2</td>\n",
       "      <td>NaN</td>\n",
       "      <td>목욕놀이장난감 케피버블클렌저 어린이날선물로도 제격인듯요</td>\n",
       "      <td>https://blog.naver.com/bysaeeun?Redirect=Log&amp;l...</td>\n",
       "    </tr>\n",
       "    <tr>\n",
       "      <th>2</th>\n",
       "      <td>3</td>\n",
       "      <td>NaN</td>\n",
       "      <td>어린이날선물 미리미리 :) 드림아트 프리미엄 미술세트 최고!</td>\n",
       "      <td>https://blog.naver.com/kiyome24?Redirect=Log&amp;l...</td>\n",
       "    </tr>\n",
       "    <tr>\n",
       "      <th>3</th>\n",
       "      <td>4</td>\n",
       "      <td>NaN</td>\n",
       "      <td>어린이날선물 호비랑아가랑 베스트초이스</td>\n",
       "      <td>https://blog.naver.com/littleyuki?Redirect=Log...</td>\n",
       "    </tr>\n",
       "    <tr>\n",
       "      <th>4</th>\n",
       "      <td>5</td>\n",
       "      <td>NaN</td>\n",
       "      <td>어린이날선물 케피버블클렌저 거품입욕제 가지고 놀아요!</td>\n",
       "      <td>https://blog.naver.com/dbfl8103?Redirect=Log&amp;l...</td>\n",
       "    </tr>\n",
       "    <tr>\n",
       "      <th>5</th>\n",
       "      <td>6</td>\n",
       "      <td>NaN</td>\n",
       "      <td>박스집 만들기 어린이날 선물로 좋은 ANBOX</td>\n",
       "      <td>https://blog.naver.com/nacomzzang?Redirect=Log...</td>\n",
       "    </tr>\n",
       "    <tr>\n",
       "      <th>6</th>\n",
       "      <td>7</td>\n",
       "      <td>NaN</td>\n",
       "      <td>유아 킥보드 윌리엄 씽씽카 어린이날 선물</td>\n",
       "      <td>https://blog.naver.com/yeeppi84?Redirect=Log&amp;l...</td>\n",
       "    </tr>\n",
       "    <tr>\n",
       "      <th>7</th>\n",
       "      <td>8</td>\n",
       "      <td>NaN</td>\n",
       "      <td>스칸디대디 스카이넷드론 어린이날선물로 이거 인기폭발일듯.</td>\n",
       "      <td>https://blog.naver.com/thj00?Redirect=Log&amp;logN...</td>\n",
       "    </tr>\n",
       "    <tr>\n",
       "      <th>8</th>\n",
       "      <td>9</td>\n",
       "      <td>NaN</td>\n",
       "      <td>어린이날선물로 파파야나인 BMW X5 푸쉬카 어때요?</td>\n",
       "      <td>https://blog.naver.com/real3622?Redirect=Log&amp;l...</td>\n",
       "    </tr>\n",
       "    <tr>\n",
       "      <th>9</th>\n",
       "      <td>10</td>\n",
       "      <td>NaN</td>\n",
       "      <td>샵디즈니 직구로 어린이날 선물 준비해요~</td>\n",
       "      <td>https://blog.naver.com/eduline2002?Redirect=Lo...</td>\n",
       "    </tr>\n",
       "  </tbody>\n",
       "</table>\n",
       "</div>"
      ],
      "text/plain": [
       "   순위 블로그명                                URL  \\\n",
       "0   1  NaN         어린이날 선물 인스 랜덤박스 입이 안다물어짐 ♡   \n",
       "1   2  NaN     목욕놀이장난감 케피버블클렌저 어린이날선물로도 제격인듯요   \n",
       "2   3  NaN  어린이날선물 미리미리 :) 드림아트 프리미엄 미술세트 최고!   \n",
       "3   4  NaN               어린이날선물 호비랑아가랑 베스트초이스   \n",
       "4   5  NaN      어린이날선물 케피버블클렌저 거품입욕제 가지고 놀아요!   \n",
       "5   6  NaN          박스집 만들기 어린이날 선물로 좋은 ANBOX   \n",
       "6   7  NaN             유아 킥보드 윌리엄 씽씽카 어린이날 선물   \n",
       "7   8  NaN    스칸디대디 스카이넷드론 어린이날선물로 이거 인기폭발일듯.   \n",
       "8   9  NaN      어린이날선물로 파파야나인 BMW X5 푸쉬카 어때요?   \n",
       "9  10  NaN             샵디즈니 직구로 어린이날 선물 준비해요~   \n",
       "\n",
       "                                                  제목  \n",
       "0  https://blog.naver.com/rorongsy?Redirect=Log&l...  \n",
       "1  https://blog.naver.com/bysaeeun?Redirect=Log&l...  \n",
       "2  https://blog.naver.com/kiyome24?Redirect=Log&l...  \n",
       "3  https://blog.naver.com/littleyuki?Redirect=Log...  \n",
       "4  https://blog.naver.com/dbfl8103?Redirect=Log&l...  \n",
       "5  https://blog.naver.com/nacomzzang?Redirect=Log...  \n",
       "6  https://blog.naver.com/yeeppi84?Redirect=Log&l...  \n",
       "7  https://blog.naver.com/thj00?Redirect=Log&logN...  \n",
       "8  https://blog.naver.com/real3622?Redirect=Log&l...  \n",
       "9  https://blog.naver.com/eduline2002?Redirect=Lo...  "
      ]
     },
     "execution_count": 17,
     "metadata": {},
     "output_type": "execute_result"
    }
   ],
   "source": [
    "file['제목'] = titles\n",
    "file['순위'] = rank\n",
    "file['URL'] = urls\n",
    "file"
   ]
  },
  {
   "cell_type": "code",
   "execution_count": 10,
   "metadata": {},
   "outputs": [
    {
     "name": "stdout",
     "output_type": "stream",
     "text": [
      "123\n"
     ]
    }
   ],
   "source": [
    "print(\"123\")"
   ]
  },
  {
   "cell_type": "code",
   "execution_count": null,
   "metadata": {},
   "outputs": [],
   "source": []
  }
 ],
 "metadata": {
  "kernelspec": {
   "display_name": "Python 3",
   "language": "python",
   "name": "python3"
  },
  "language_info": {
   "codemirror_mode": {
    "name": "ipython",
    "version": 3
   },
   "file_extension": ".py",
   "mimetype": "text/x-python",
   "name": "python",
   "nbconvert_exporter": "python",
   "pygments_lexer": "ipython3",
   "version": "3.7.3"
  }
 },
 "nbformat": 4,
 "nbformat_minor": 2
}
