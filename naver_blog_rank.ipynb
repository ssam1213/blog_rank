{
 "cells": [
  {
   "cell_type": "code",
   "execution_count": 1,
   "metadata": {},
   "outputs": [],
   "source": [
    "\n",
    "import requests\n",
    "from scrapy.http import TextResponse\n",
    "\n",
    "import pandas as pd\n",
    "# from bs4 import BeautifulSoup\n",
    "# from selenium import webdriver\n",
    "# from selenium.webdriver.common.keys import Keys"
   ]
  },
  {
   "cell_type": "code",
   "execution_count": 2,
   "metadata": {},
   "outputs": [],
   "source": [
    "file = pd.read_csv('blog_rank.csv')"
   ]
  },
  {
   "cell_type": "code",
   "execution_count": 3,
   "metadata": {},
   "outputs": [],
   "source": [
    "# driver = webdriver.Chrome('/Users/User/Desktop/이원복/개발/블로그순위/chromedriver')\n",
    "# driver.get(pc_url+query)\n"
   ]
  },
  {
   "cell_type": "code",
   "execution_count": 4,
   "metadata": {},
   "outputs": [],
   "source": [
    "pc_url = \"https://search.naver.com/search.naver?where=post&sm=tab_jum&query=\"\n",
    "m_url = \"https://m.search.naver.com/search.naver?where=m_view&sm=mtb_jum&query=\"\n",
    "query = \"어린이날선물\""
   ]
  },
  {
   "cell_type": "code",
   "execution_count": 5,
   "metadata": {},
   "outputs": [],
   "source": [
    "rep = requests.get(pc_url+query)\n",
    "res = TextResponse(rep.url, body=rep.text, encoding=\"utf-8\" )"
   ]
  },
  {
   "cell_type": "code",
   "execution_count": null,
   "metadata": {},
   "outputs": [],
   "source": [
    "titles = []\n",
    "urls = []\n",
    "rank = []\n",
    "for i in range(10):\n",
    "    title = res.xpath(\"//*[@id='sp_blog_\"+str(i+1)+\"']/dl/dt/a/@title\").extract()\n",
    "    url = res.xpath(\"//*[@id='sp_blog_\"+str(i+1)+\"']/dl/dd[3]/span/a[2]/@href\").extract()\n",
    "    \n",
    "    rank.append(i+1)\n",
    "    for i in title:    \n",
    "        titles.append(i)\n",
    "    for i in url:\n",
    "        url.append(i)"
   ]
  },
  {
   "cell_type": "code",
   "execution_count": null,
   "metadata": {},
   "outputs": [],
   "source": [
    "titles"
   ]
  },
  {
   "cell_type": "code",
   "execution_count": null,
   "metadata": {},
   "outputs": [],
   "source": [
    "file['제목'] = titles\n",
    "file['순위'] = rank\n",
    "file['URL'] = urls\n",
    "file"
   ]
  },
  {
   "cell_type": "code",
   "execution_count": null,
   "metadata": {},
   "outputs": [],
   "source": [
    "print(\"123\")"
   ]
  },
  {
   "cell_type": "code",
   "execution_count": null,
   "metadata": {},
   "outputs": [],
   "source": []
  }
 ],
 "metadata": {
  "kernelspec": {
   "display_name": "Python 3",
   "language": "python",
   "name": "python3"
  },
  "language_info": {
   "codemirror_mode": {
    "name": "ipython",
    "version": 3
   },
   "file_extension": ".py",
   "mimetype": "text/x-python",
   "name": "python",
   "nbconvert_exporter": "python",
   "pygments_lexer": "ipython3",
   "version": "3.6.8"
  }
 },
 "nbformat": 4,
 "nbformat_minor": 2
}
